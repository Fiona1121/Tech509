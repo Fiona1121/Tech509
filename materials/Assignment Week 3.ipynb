{
 "cells": [
  {
   "cell_type": "markdown",
   "metadata": {},
   "source": [
    "# Assignment Week 3 (Loops and Conditionals; TicTacToe Game Winner) \n"
   ]
  },
  {
   "cell_type": "markdown",
   "metadata": {},
   "source": [
    "## Problem statement for FizzBuzz:\n",
    "\n",
    "*Write a program that prints the numbers from 1 to 100.\n",
    "But for multiples of three print “Fizz” instead of the number and for the multiples of five print “Buzz”.\n",
    "For numbers that are multiples of both three and five print “FizzBuzz”.\"* \n",
    "\n",
    "For those of you more proficient in programming, you can solve the following for your interest. The point of the following exercise is to not only write accurate code, but also one that is readable and maintainable:\n",
    "\n",
    "How would you scale the FizzBuzz problem to handle additional rules?\n",
    "In addition to printing \"Fizz\" if the number is divisible by three, \"Buzz\" if the number is divisible by five, and \"FizzBuzz\" for both, you would have to incorporate additional rules: Print \"Fizz\" if the number is divisible by three, \"Buzz\" if it is divisible by 5, \"Qizz\" if it is divisible by 7, \"FizzBuzz\" for three and five, \"FizzQizz\" for three and seven, \"BuzzQizz\" for five and seven, and \"FizzBuzzQizz\" for three, five and seven. \n"
   ]
  },
  {
   "cell_type": "code",
   "execution_count": null,
   "metadata": {},
   "outputs": [],
   "source": [
    "def FizzBuzz():\n",
    "\tfor i in range(1, 101):\n",
    "\t\tif i % 3 == 0 and i % 5 == 0:\n",
    "\t\t\tprint(\"FizzBuzz\")\n",
    "\t\telif i % 3 == 0:\n",
    "\t\t\tprint(\"Fizz\")\n",
    "\t\telif i % 5 == 0:\n",
    "\t\t\tprint(\"Buzz\")\n",
    "\t\telse:\n",
    "\t\t\tprint(i)\n",
    "   \n",
    "FizzBuzz()"
   ]
  },
  {
   "cell_type": "code",
   "execution_count": null,
   "metadata": {},
   "outputs": [],
   "source": [
    "def FizzBuzz2(n, rules):\n",
    "    for i in range(1, n+1):\n",
    "        answer = \"\"\n",
    "        for rule in rules:\n",
    "            if i % rule[0] == 0:\n",
    "                answer += rule[1]\n",
    "        if answer == \"\":\n",
    "            answer = i\n",
    "        print(answer)\n",
    "            \n",
    "FizzBuzz2(100, [(3, \"Fizz\"), (5, \"Buzz\"), (7, \"Qizz\")])"
   ]
  },
  {
   "cell_type": "markdown",
   "metadata": {},
   "source": [
    "## Problem Statement for Tic Tac Toe:\n",
    "\n",
    "Given an existing board of tic tac toe, find the winner of the game.\n",
    "\n",
    "Sample input into your function: \n",
    "\n",
    "```python\n",
    "board = [['O', 'X', 'X'],\n",
    "         ['X', 'X', 'O'],\n",
    "         ['O', 'X', 'X']]\n",
    "```\n",
    "\n",
    "Sample output from your function: 'X won', or 'O won', or 'Draw'."
   ]
  },
  {
   "cell_type": "code",
   "execution_count": 12,
   "metadata": {},
   "outputs": [
    {
     "name": "stdout",
     "output_type": "stream",
     "text": [
      "Draw\n"
     ]
    }
   ],
   "source": [
    "def TicTacToe(board):\n",
    "    for i in range(3):\n",
    "        if board[i][0] == board[i][1] == board[i][2]:\n",
    "            return f'{board[i][0]} won'\n",
    "        if board[0][i] == board[1][i] == board[2][i]:\n",
    "            return f'{board[0][i]} won'\n",
    "    if board[0][0] == board[1][1] == board[2][2]:\n",
    "        return f'{board[0][0]} won'\n",
    "    if board[0][2] == board[1][1] == board[2][0]:\n",
    "        return f'{board[0][2]} won'\n",
    "    return 'Draw'\n",
    "\n",
    "print(TicTacToe([   ['O', 'X', 'X'],\n",
    "                    ['X', 'X', 'O'],\n",
    "                    ['O', 'O', 'X']]))"
   ]
  }
 ],
 "metadata": {
  "kernelspec": {
   "display_name": "Python 3",
   "language": "python",
   "name": "python3"
  },
  "language_info": {
   "codemirror_mode": {
    "name": "ipython",
    "version": 3
   },
   "file_extension": ".py",
   "mimetype": "text/x-python",
   "name": "python",
   "nbconvert_exporter": "python",
   "pygments_lexer": "ipython3",
   "version": "3.9.6"
  }
 },
 "nbformat": 4,
 "nbformat_minor": 2
}
