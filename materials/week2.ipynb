{
  "cells": [
    {
      "cell_type": "code",
      "execution_count": 3,
      "metadata": {
        "id": "aIKKXb7_ijFR"
      },
      "outputs": [
        {
          "name": "stdout",
          "output_type": "stream",
          "text": [
            "https://colab.research.google.com\n"
          ]
        }
      ],
      "source": [
        "print(\"https://colab.research.google.com\")"
      ]
    },
    {
      "cell_type": "markdown",
      "metadata": {
        "id": "6nExSpyF9ZLI"
      },
      "source": [
        "Before we write any code, let's learn how to write comments\n",
        "\n",
        "comments are a way to include explanatory or descriptive text within your code that is ignored by the Python interpreter when your code is run. Comments are used to provide information to developers (including yourself) about how the code works, what it does, or any other relevant details. They are not executed as part of the program and do not affect its functionality."
      ]
    },
    {
      "cell_type": "code",
      "execution_count": 4,
      "metadata": {
        "id": "OyQziny0953n"
      },
      "outputs": [],
      "source": [
        "# this is a comment\n",
        "# sharp/pound sign (#) indicates a comment\n",
        "# You can quickly toggle comments with hotkey cmd+/"
      ]
    },
    {
      "cell_type": "markdown",
      "metadata": {
        "id": "iyh03kzSm2ZX"
      },
      "source": [
        "# What we will cover in Week 2\n",
        "- Number\n",
        "- Vriables\n",
        "- String\n",
        "- Print-formatting\n",
        "- File I/O"
      ]
    },
    {
      "cell_type": "markdown",
      "metadata": {
        "id": "Eg6p2QClthuO"
      },
      "source": [
        "# Arithmetic"
      ]
    },
    {
      "cell_type": "code",
      "execution_count": 5,
      "metadata": {
        "colab": {
          "base_uri": "https://localhost:8080/"
        },
        "id": "GTOqBj_Nm6e1",
        "outputId": "a528c34d-d3b5-4ddb-fde4-f7c9948c39a7"
      },
      "outputs": [
        {
          "data": {
            "text/plain": [
              "3"
            ]
          },
          "execution_count": 5,
          "metadata": {},
          "output_type": "execute_result"
        }
      ],
      "source": [
        "# This is a number\n",
        "3"
      ]
    },
    {
      "cell_type": "code",
      "execution_count": 6,
      "metadata": {
        "colab": {
          "base_uri": "https://localhost:8080/"
        },
        "id": "YcY7zPvNndR1",
        "outputId": "60ee7dc0-1e74-4505-c551-589e0209dca3"
      },
      "outputs": [
        {
          "data": {
            "text/plain": [
              "2"
            ]
          },
          "execution_count": 6,
          "metadata": {},
          "output_type": "execute_result"
        }
      ],
      "source": [
        "1 + 1"
      ]
    },
    {
      "cell_type": "code",
      "execution_count": 7,
      "metadata": {
        "colab": {
          "base_uri": "https://localhost:8080/"
        },
        "id": "PmCqez7EngoH",
        "outputId": "0d9b4f19-e189-4769-cc07-cf33688cea49"
      },
      "outputs": [
        {
          "data": {
            "text/plain": [
              "7"
            ]
          },
          "execution_count": 7,
          "metadata": {},
          "output_type": "execute_result"
        }
      ],
      "source": [
        "8 - 1"
      ]
    },
    {
      "cell_type": "code",
      "execution_count": 8,
      "metadata": {
        "colab": {
          "base_uri": "https://localhost:8080/"
        },
        "id": "ZH7lmiWJnql2",
        "outputId": "3e547f04-0a0f-4543-c2fc-2825e35b01f4"
      },
      "outputs": [
        {
          "data": {
            "text/plain": [
              "20"
            ]
          },
          "execution_count": 8,
          "metadata": {},
          "output_type": "execute_result"
        }
      ],
      "source": [
        "10 * 2"
      ]
    },
    {
      "cell_type": "code",
      "execution_count": 9,
      "metadata": {
        "colab": {
          "base_uri": "https://localhost:8080/"
        },
        "id": "7EJ_qwdwnr9V",
        "outputId": "49280c6a-6e87-4d50-869e-1a6e85d50057"
      },
      "outputs": [
        {
          "data": {
            "text/plain": [
              "7.0"
            ]
          },
          "execution_count": 9,
          "metadata": {},
          "output_type": "execute_result"
        }
      ],
      "source": [
        "35 / 5"
      ]
    },
    {
      "cell_type": "code",
      "execution_count": 10,
      "metadata": {
        "colab": {
          "base_uri": "https://localhost:8080/"
        },
        "id": "v8UmtyKGns9v",
        "outputId": "673576e0-54b2-4c74-f74e-4291cb473a4a"
      },
      "outputs": [
        {
          "data": {
            "text/plain": [
              "400.0"
            ]
          },
          "execution_count": 10,
          "metadata": {},
          "output_type": "execute_result"
        }
      ],
      "source": [
        "# Scientific notation\n",
        "4E2"
      ]
    },
    {
      "cell_type": "code",
      "execution_count": 11,
      "metadata": {
        "id": "FPbFyhOxp8AG"
      },
      "outputs": [
        {
          "data": {
            "text/plain": [
              "8"
            ]
          },
          "execution_count": 11,
          "metadata": {},
          "output_type": "execute_result"
        }
      ],
      "source": [
        "# Exponentiation\n",
        "2 ** 3"
      ]
    },
    {
      "cell_type": "code",
      "execution_count": 12,
      "metadata": {
        "id": "PLDojAz7q-3s"
      },
      "outputs": [
        {
          "data": {
            "text/plain": [
              "2.0"
            ]
          },
          "execution_count": 12,
          "metadata": {},
          "output_type": "execute_result"
        }
      ],
      "source": [
        "# Square root\n",
        "4 ** 0.5"
      ]
    },
    {
      "cell_type": "markdown",
      "metadata": {
        "id": "y82gWz4w3kmy"
      },
      "source": [
        "The **order of operations** (also called **precedence**) of Python math operators is similar to that of mathematics. The ** operator is evaluated first; the *,\n",
        "/, //, and % operators are evaluated next, from left to right; and the + and - operators are evaluated last (also from left to right). You can use parentheses to override the usual precedence."
      ]
    },
    {
      "cell_type": "code",
      "execution_count": 13,
      "metadata": {
        "id": "OrNng157rRUe"
      },
      "outputs": [
        {
          "data": {
            "text/plain": [
              "105"
            ]
          },
          "execution_count": 13,
          "metadata": {},
          "output_type": "execute_result"
        }
      ],
      "source": [
        "2 + 10 * 10 + 3"
      ]
    },
    {
      "cell_type": "code",
      "execution_count": 14,
      "metadata": {
        "id": "2Ch7x3ZdrWu1"
      },
      "outputs": [
        {
          "data": {
            "text/plain": [
              "156"
            ]
          },
          "execution_count": 14,
          "metadata": {},
          "output_type": "execute_result"
        }
      ],
      "source": [
        "(2 + 10) * (10 + 3)"
      ]
    },
    {
      "cell_type": "markdown",
      "metadata": {
        "id": "FxtlhsCXhY_0"
      },
      "source": [
        "# Practice 1: Arithmetic operation in Python\n",
        "A robot moves from point A to point B at a speed of 0.5 meters per second. If the distance between points A and B is 300 meters. How many minutes will the robot take to reach point B? Please use **scientific notation** to denote the distance."
      ]
    },
    {
      "cell_type": "code",
      "execution_count": 15,
      "metadata": {
        "id": "b1WQDhXLhY_0"
      },
      "outputs": [
        {
          "data": {
            "text/plain": [
              "10.0"
            ]
          },
          "execution_count": 15,
          "metadata": {},
          "output_type": "execute_result"
        }
      ],
      "source": [
        "# add your code here\n",
        "300 / 0.5 / 60"
      ]
    },
    {
      "cell_type": "markdown",
      "metadata": {
        "id": "xBWIXyXYphld"
      },
      "source": [
        "# Types\n",
        "While Python is a dynamic language, which means it is not required to specify types in the source code, there are still the concept of types in Python.\n",
        "\n",
        "You can check the type of an expression by using `type` function"
      ]
    },
    {
      "cell_type": "code",
      "execution_count": 16,
      "metadata": {
        "id": "5RwrHoEhpk7A"
      },
      "outputs": [
        {
          "data": {
            "text/plain": [
              "int"
            ]
          },
          "execution_count": 16,
          "metadata": {},
          "output_type": "execute_result"
        }
      ],
      "source": [
        "# check the type of number 3\n",
        "type(3)"
      ]
    },
    {
      "cell_type": "code",
      "execution_count": 17,
      "metadata": {
        "id": "qX-DTHoDpqRd"
      },
      "outputs": [
        {
          "data": {
            "text/plain": [
              "float"
            ]
          },
          "execution_count": 17,
          "metadata": {},
          "output_type": "execute_result"
        }
      ],
      "source": [
        "# check the type of 0.1\n",
        "type(0.1)"
      ]
    },
    {
      "cell_type": "code",
      "execution_count": 18,
      "metadata": {
        "id": "ixrKpjhDp1Ej"
      },
      "outputs": [
        {
          "data": {
            "text/plain": [
              "1.0"
            ]
          },
          "execution_count": 18,
          "metadata": {},
          "output_type": "execute_result"
        }
      ],
      "source": [
        "# change the type of an integer to float by using the float() function\n",
        "float(1)"
      ]
    },
    {
      "cell_type": "code",
      "execution_count": 19,
      "metadata": {
        "id": "1xZz7szop5Js"
      },
      "outputs": [
        {
          "data": {
            "text/plain": [
              "2"
            ]
          },
          "execution_count": 19,
          "metadata": {},
          "output_type": "execute_result"
        }
      ],
      "source": [
        "# change the type of a floating point number to integer by using the int() function\n",
        "int(2.0)"
      ]
    },
    {
      "cell_type": "markdown",
      "metadata": {
        "id": "1baRSi5srZ65"
      },
      "source": [
        "# Variables\n",
        "\n",
        "Variables in Python are containers that hold data. They are like labeled boxes that can store different types of information, such as numbers, text, or more complex data structures. Variables allow you to manipulate and work with data in your programs."
      ]
    },
    {
      "cell_type": "code",
      "execution_count": 20,
      "metadata": {
        "id": "z_teFUY-rh6q"
      },
      "outputs": [],
      "source": [
        "name = \"TECHIN509\""
      ]
    },
    {
      "cell_type": "code",
      "execution_count": 21,
      "metadata": {
        "id": "y6_fvK1FrkEc"
      },
      "outputs": [
        {
          "data": {
            "text/plain": [
              "'TECHIN509'"
            ]
          },
          "execution_count": 21,
          "metadata": {},
          "output_type": "execute_result"
        }
      ],
      "source": [
        "name"
      ]
    },
    {
      "cell_type": "code",
      "execution_count": 22,
      "metadata": {
        "id": "uiagAQp8rmsN"
      },
      "outputs": [],
      "source": [
        "score = 100"
      ]
    },
    {
      "cell_type": "code",
      "execution_count": 23,
      "metadata": {
        "id": "eYXeWVrUrxbn"
      },
      "outputs": [
        {
          "data": {
            "text/plain": [
              "int"
            ]
          },
          "execution_count": 23,
          "metadata": {},
          "output_type": "execute_result"
        }
      ],
      "source": [
        "type(score)"
      ]
    },
    {
      "cell_type": "code",
      "execution_count": 24,
      "metadata": {
        "id": "ym0yOUwZrz6G"
      },
      "outputs": [
        {
          "name": "stdout",
          "output_type": "stream",
          "text": [
            "100\n"
          ]
        }
      ],
      "source": [
        "print(score)"
      ]
    },
    {
      "cell_type": "code",
      "execution_count": 25,
      "metadata": {
        "id": "Rrfp8h3cr1wi"
      },
      "outputs": [
        {
          "data": {
            "text/plain": [
              "200"
            ]
          },
          "execution_count": 25,
          "metadata": {},
          "output_type": "execute_result"
        }
      ],
      "source": [
        "score + score"
      ]
    },
    {
      "cell_type": "code",
      "execution_count": 26,
      "metadata": {
        "id": "sR2Udj5Zr704"
      },
      "outputs": [
        {
          "data": {
            "text/plain": [
              "23.333333333333332"
            ]
          },
          "execution_count": 26,
          "metadata": {},
          "output_type": "execute_result"
        }
      ],
      "source": [
        "# Convert temperature from fahrenheit to celsius\n",
        "fahrenheit = 74\n",
        "celsius = (fahrenheit - 32) * 5/9\n",
        "celsius"
      ]
    },
    {
      "cell_type": "code",
      "execution_count": 27,
      "metadata": {
        "id": "RlLLDZ0MsWNY"
      },
      "outputs": [
        {
          "data": {
            "text/plain": [
              "23"
            ]
          },
          "execution_count": 27,
          "metadata": {},
          "output_type": "execute_result"
        }
      ],
      "source": [
        "# Convert to integer\n",
        "int(celsius)"
      ]
    },
    {
      "cell_type": "markdown",
      "metadata": {
        "id": "xfHp0Ez-WApA"
      },
      "source": [
        "# Practice 2: Use of Variables\n",
        "Annualized return(%) is\n",
        "$$Annualized\\ return(\\%) = (\\ total\\ return + 1) ^ {1/number\\ of\\ years} - 1$$\n",
        "If we have two projects:\n",
        "\n",
        "- Project A. 10 years, total return 200%\n",
        "- Project B. 5 years, total return 100%\n",
        "\n",
        "Please define a variable to compute the annualized return of project A and B, respectively. Print the values of your variables, and explain which one has a higher annualized return."
      ]
    },
    {
      "cell_type": "code",
      "execution_count": 81,
      "metadata": {
        "id": "v64N7n1SWFI0"
      },
      "outputs": [
        {
          "name": "stdout",
          "output_type": "stream",
          "text": [
            "Return on A:  0.11612317403390437\n",
            "Return on B:  0.1486983549970351\n"
          ]
        }
      ],
      "source": [
        "# add your code here\n",
        "ra = (200 / 100 + 1) ** (1 / 10) - 1\n",
        "rb = (100 / 100 + 1) ** (1 / 5) - 1\n",
        "print(\"Return on A: \", ra)\n",
        "print(\"Return on B: \", rb)\n",
        "# Project B has a higher return"
      ]
    },
    {
      "cell_type": "markdown",
      "metadata": {
        "id": "zmd1p_K_sagS"
      },
      "source": [
        "# String\n",
        "\n",
        "A string is a data type in Python used to represent a sequence of characters. Characters in a string can be letters, numbers, symbols, or even spaces. Strings are enclosed in either single quotes (') or double quotes (\"), and they are considered immutable, which means you cannot change the characters within a string once it's created; instead, you create a new string."
      ]
    },
    {
      "cell_type": "code",
      "execution_count": 29,
      "metadata": {
        "id": "MN1MIcYEtLh9"
      },
      "outputs": [
        {
          "data": {
            "text/plain": [
              "'this is a string'"
            ]
          },
          "execution_count": 29,
          "metadata": {},
          "output_type": "execute_result"
        }
      ],
      "source": [
        "'this is a string'"
      ]
    },
    {
      "cell_type": "code",
      "execution_count": 30,
      "metadata": {
        "id": "mPpF_tTKtQNh"
      },
      "outputs": [
        {
          "data": {
            "text/plain": [
              "'you can also use double quotes to create a string'"
            ]
          },
          "execution_count": 30,
          "metadata": {},
          "output_type": "execute_result"
        }
      ],
      "source": [
        "\"you can also use double quotes to create a string\""
      ]
    },
    {
      "cell_type": "code",
      "execution_count": 31,
      "metadata": {
        "id": "FZtpkxHx5Hkn"
      },
      "outputs": [
        {
          "data": {
            "text/plain": [
              "'you can also use triple single quotes to create a string'"
            ]
          },
          "execution_count": 31,
          "metadata": {},
          "output_type": "execute_result"
        }
      ],
      "source": [
        "'''you can also use triple single quotes to create a string'''"
      ]
    },
    {
      "cell_type": "code",
      "execution_count": 32,
      "metadata": {
        "id": "Ew4jT6un5QPq"
      },
      "outputs": [
        {
          "data": {
            "text/plain": [
              "'or triple double quotes to create a string'"
            ]
          },
          "execution_count": 32,
          "metadata": {},
          "output_type": "execute_result"
        }
      ],
      "source": [
        "\"\"\"or triple double quotes to create a string\"\"\""
      ]
    },
    {
      "cell_type": "markdown",
      "metadata": {
        "id": "PidNj6ga5bP_"
      },
      "source": [
        "All of the above are valid ways to define Python strings, but when should you use each one?"
      ]
    },
    {
      "cell_type": "code",
      "execution_count": 33,
      "metadata": {
        "id": "Rt4AR6g4tRYu"
      },
      "outputs": [
        {
          "data": {
            "text/plain": [
              "\"I'm a software engineer\""
            ]
          },
          "execution_count": 33,
          "metadata": {},
          "output_type": "execute_result"
        }
      ],
      "source": [
        "# there is a ' in the string, you can use double quote to define the string\n",
        "\"I'm a software engineer\""
      ]
    },
    {
      "cell_type": "code",
      "execution_count": 34,
      "metadata": {
        "id": "15o76vOXtavN"
      },
      "outputs": [
        {
          "data": {
            "text/plain": [
              "\"I'm an engineer\""
            ]
          },
          "execution_count": 34,
          "metadata": {},
          "output_type": "execute_result"
        }
      ],
      "source": [
        "# or triple quotes\n",
        "'''I'm an engineer'''"
      ]
    },
    {
      "cell_type": "markdown",
      "metadata": {
        "id": "8yZwPxk66juq"
      },
      "source": [
        "# Multi-line strings\n",
        "\n",
        "A multi-line string in Python is a string that spans multiple lines of text. It is often used when you need to represent a block of text, such as a long paragraph, code snippet, or even structured data like JSON or XML, in a more readable and maintainable format. In Python, you can create multi-line strings using triple-quotes (''' or \"\"\") or by escaping newline characters (\\n)."
      ]
    },
    {
      "cell_type": "code",
      "execution_count": 35,
      "metadata": {
        "colab": {
          "base_uri": "https://localhost:8080/"
        },
        "id": "AtpiZpX_tibH",
        "outputId": "8ee1e29c-61a9-4342-b308-6042889935b5"
      },
      "outputs": [
        {
          "name": "stdout",
          "output_type": "stream",
          "text": [
            "Python, a language so bright\n",
            "Easy to learn, yet powerful\n",
            "Building with grace and might\n"
          ]
        }
      ],
      "source": [
        "haiku = \"\"\"Python, a language so bright\n",
        "Easy to learn, yet powerful\n",
        "Building with grace and might\"\"\"\n",
        "print(haiku)"
      ]
    },
    {
      "cell_type": "code",
      "execution_count": 36,
      "metadata": {
        "id": "zaHCiLKOt2Y2",
        "outputId": "eb2c5204-e822-4d1d-8555-c07d83e645f6"
      },
      "outputs": [
        {
          "data": {
            "text/plain": [
              "'this is a looooooooooooooooooooooooooooooooooooooooooooooooong string'"
            ]
          },
          "execution_count": 36,
          "metadata": {},
          "output_type": "execute_result"
        }
      ],
      "source": [
        "s = \"this is a looooooooooooooooooooooooooooooooooooooooooooooooong string\"\n",
        "s"
      ]
    },
    {
      "cell_type": "code",
      "execution_count": 37,
      "metadata": {
        "colab": {
          "base_uri": "https://localhost:8080/",
          "height": 35
        },
        "id": "TdUAYbdyuViV",
        "outputId": "0799f854-d2f6-44ea-c161-7aab4546d37c"
      },
      "outputs": [
        {
          "data": {
            "text/plain": [
              "'this is a looooooooooooooooooooooooooooooooooooooooooooooooong string'"
            ]
          },
          "execution_count": 37,
          "metadata": {},
          "output_type": "execute_result"
        }
      ],
      "source": [
        "s = \"this is a loooooooooooooo\\\n",
        "ooooooooooooooooooooooooooooooooooong string\"\n",
        "s"
      ]
    },
    {
      "cell_type": "code",
      "execution_count": 38,
      "metadata": {
        "colab": {
          "base_uri": "https://localhost:8080/",
          "height": 35
        },
        "id": "F752mgoSuYzY",
        "outputId": "23a959ed-d18b-47ba-d63b-816d8b6a51ba"
      },
      "outputs": [
        {
          "data": {
            "text/plain": [
              "'this is a looooooooooooooooooooooooooooooooooooooooooooooooong string'"
            ]
          },
          "execution_count": 38,
          "metadata": {},
          "output_type": "execute_result"
        }
      ],
      "source": [
        "s = (\n",
        "    'this is a loooooooooooooo'\n",
        "    'ooooooooooooooooooooooooooooooooooong string'\n",
        ")\n",
        "s"
      ]
    },
    {
      "cell_type": "markdown",
      "metadata": {
        "id": "X4oynJPdEljk"
      },
      "source": [
        "# String indexing\n",
        "String indexing is a fundamental concept in Python, used to access individual characters within a string.\n",
        "\n",
        "In Python, strings are sequences of characters, and each character in a string has a position or index. Indexing starts at 0 for the first character in the string, and you can use these indices to retrieve or manipulate specific characters within the string.\n",
        "\n",
        "`some_string[start:end:step]`"
      ]
    },
    {
      "cell_type": "code",
      "execution_count": 39,
      "metadata": {
        "id": "28OsNaEhJUtc"
      },
      "outputs": [],
      "source": [
        "s = \"Hello,GIX\""
      ]
    },
    {
      "cell_type": "code",
      "execution_count": 40,
      "metadata": {
        "colab": {
          "base_uri": "https://localhost:8080/"
        },
        "id": "5mbfN_aiLAH3",
        "outputId": "7b2b600c-2636-4720-cc6c-1912d64a50dc"
      },
      "outputs": [
        {
          "data": {
            "text/plain": [
              "9"
            ]
          },
          "execution_count": 40,
          "metadata": {},
          "output_type": "execute_result"
        }
      ],
      "source": [
        "# check the length of the string with len()\n",
        "len(s)"
      ]
    },
    {
      "cell_type": "code",
      "execution_count": 41,
      "metadata": {
        "colab": {
          "base_uri": "https://localhost:8080/",
          "height": 35
        },
        "id": "vcH-VJJJJDon",
        "outputId": "9193d856-d558-428e-b3de-0d2409a0e755"
      },
      "outputs": [
        {
          "data": {
            "text/plain": [
              "'Hello,GIX'"
            ]
          },
          "execution_count": 41,
          "metadata": {},
          "output_type": "execute_result"
        }
      ],
      "source": [
        "# String indexing syntax\n",
        "# This example does not specify any start, end, or step\n",
        "# So it will return the whole string\n",
        "s[::]"
      ]
    },
    {
      "cell_type": "code",
      "execution_count": 42,
      "metadata": {
        "colab": {
          "base_uri": "https://localhost:8080/",
          "height": 35
        },
        "id": "Kl5ohybZJjay",
        "outputId": "a7684a32-11f6-4cda-9aa0-4f5cc04fe916"
      },
      "outputs": [
        {
          "data": {
            "text/plain": [
              "'e'"
            ]
          },
          "execution_count": 42,
          "metadata": {},
          "output_type": "execute_result"
        }
      ],
      "source": [
        "# Let's specify\n",
        "# start index = 1,\n",
        "# end index = 2,\n",
        "# step = 1,\n",
        "# so we get the character at index 1\n",
        "# string: Hello,GIX\n",
        "#  index: 012345678\n",
        "#          ^\n",
        "s[1:2:1]"
      ]
    },
    {
      "cell_type": "code",
      "execution_count": 43,
      "metadata": {
        "colab": {
          "base_uri": "https://localhost:8080/",
          "height": 35
        },
        "id": "Vw4TGA8BKFPj",
        "outputId": "3a5506e6-9f64-40fe-df87-8673425d3d22"
      },
      "outputs": [
        {
          "data": {
            "text/plain": [
              "'e'"
            ]
          },
          "execution_count": 43,
          "metadata": {},
          "output_type": "execute_result"
        }
      ],
      "source": [
        "# We can omit the end and step if we are only indexing for a single character\n",
        "#\n",
        "# string: Hello,GIX\n",
        "#  index: 012345678\n",
        "#          ^\n",
        "s[1]"
      ]
    },
    {
      "cell_type": "code",
      "execution_count": 44,
      "metadata": {
        "colab": {
          "base_uri": "https://localhost:8080/",
          "height": 35
        },
        "id": "6ns-Ffb6Kunk",
        "outputId": "21c22bd8-2c59-4d8e-ab3d-77b032a492cc"
      },
      "outputs": [
        {
          "data": {
            "text/plain": [
              "'ello,'"
            ]
          },
          "execution_count": 44,
          "metadata": {},
          "output_type": "execute_result"
        }
      ],
      "source": [
        "# get the character from index 1 to 6, with step = 1\n",
        "# string: Hello,GIX\n",
        "#  index: 012345678\n",
        "#          ^^^^^\n",
        "s[1:6:1]"
      ]
    },
    {
      "cell_type": "code",
      "execution_count": 45,
      "metadata": {
        "colab": {
          "base_uri": "https://localhost:8080/",
          "height": 35
        },
        "id": "MOwVnFRzK0xp",
        "outputId": "e7d9bf47-20f0-48d5-b9de-59e92109bc41"
      },
      "outputs": [
        {
          "data": {
            "text/plain": [
              "'el,'"
            ]
          },
          "execution_count": 45,
          "metadata": {},
          "output_type": "execute_result"
        }
      ],
      "source": [
        "# get the character from index 1 to 6, with step = 2\n",
        "# string: Hello,GIX\n",
        "#  index: 012345678\n",
        "#          ^ ^ ^\n",
        "s[1:6:2]"
      ]
    },
    {
      "cell_type": "code",
      "execution_count": 46,
      "metadata": {
        "colab": {
          "base_uri": "https://localhost:8080/",
          "height": 35
        },
        "id": "vkyqOMJ6u5xj",
        "outputId": "395be9ac-0598-4a11-e123-1197de3b21da"
      },
      "outputs": [
        {
          "data": {
            "text/plain": [
              "'ello,'"
            ]
          },
          "execution_count": 46,
          "metadata": {},
          "output_type": "execute_result"
        }
      ],
      "source": [
        "# if step = 1, you cam omit it\n",
        "# string: Hello,GIX\n",
        "#  index: 012345678\n",
        "#          ^^^^^\n",
        "s[1:6]"
      ]
    },
    {
      "cell_type": "code",
      "execution_count": 47,
      "metadata": {
        "colab": {
          "base_uri": "https://localhost:8080/",
          "height": 35
        },
        "id": "v9ShmN0JvFPz",
        "outputId": "6dfc9f2f-1245-464b-bd81-f80f9142c6cd"
      },
      "outputs": [
        {
          "data": {
            "text/plain": [
              "'ello,GIX'"
            ]
          },
          "execution_count": 47,
          "metadata": {},
          "output_type": "execute_result"
        }
      ],
      "source": [
        "# get the character from index 1 to the end of the string, with step = 1\n",
        "# string: Hello,GIX\n",
        "#  index: 012345678\n",
        "#          ^^^^^^^^\n",
        "s[1::1]"
      ]
    },
    {
      "cell_type": "code",
      "execution_count": 48,
      "metadata": {
        "colab": {
          "base_uri": "https://localhost:8080/",
          "height": 35
        },
        "id": "b7Gykm6nMItg",
        "outputId": "639c35c2-6d31-40de-febe-3209ed2a6e95"
      },
      "outputs": [
        {
          "data": {
            "text/plain": [
              "'ello,GIX'"
            ]
          },
          "execution_count": 48,
          "metadata": {},
          "output_type": "execute_result"
        }
      ],
      "source": [
        "# step = 1, so we omit it\n",
        "# string: Hello,GIX\n",
        "#  index: 012345678\n",
        "#          ^^^^^^^^\n",
        "s[1::]"
      ]
    },
    {
      "cell_type": "code",
      "execution_count": 49,
      "metadata": {
        "colab": {
          "base_uri": "https://localhost:8080/",
          "height": 35
        },
        "id": "l6lYzJG0vq1p",
        "outputId": "0b7ae2b5-2a77-487f-9a09-a1943e48db8e"
      },
      "outputs": [
        {
          "data": {
            "text/plain": [
              "'el,I'"
            ]
          },
          "execution_count": 49,
          "metadata": {},
          "output_type": "execute_result"
        }
      ],
      "source": [
        "# get the character from index 1 to the end of the string, with step = 2\n",
        "# string: Hello,GIX\n",
        "#  index: 012345678\n",
        "#          ^ ^ ^ ^\n",
        "s[1::2]"
      ]
    },
    {
      "cell_type": "markdown",
      "metadata": {
        "id": "k-SdRenqvvXT"
      },
      "source": [
        "You can index from the end of the string using a negative index.\n",
        "\n",
        "Note that when indexing from the end it starts from -1 not 0"
      ]
    },
    {
      "cell_type": "code",
      "execution_count": 50,
      "metadata": {
        "id": "kEgwdSRmv52H"
      },
      "outputs": [
        {
          "data": {
            "text/plain": [
              "'o'"
            ]
          },
          "execution_count": 50,
          "metadata": {},
          "output_type": "execute_result"
        }
      ],
      "source": [
        "# get the last character\n",
        "'hello'[-1]"
      ]
    },
    {
      "cell_type": "markdown",
      "metadata": {
        "id": "obtuyHrGNSbA"
      },
      "source": [
        "How to reverse a string?"
      ]
    },
    {
      "cell_type": "code",
      "execution_count": 51,
      "metadata": {
        "colab": {
          "base_uri": "https://localhost:8080/",
          "height": 35
        },
        "id": "DkJ7_YN5v-SY",
        "outputId": "57ee38e4-4319-4db8-ccd7-3ac2d96ef05b"
      },
      "outputs": [
        {
          "data": {
            "text/plain": [
              "'olleH'"
            ]
          },
          "execution_count": 51,
          "metadata": {},
          "output_type": "execute_result"
        }
      ],
      "source": [
        "# Use step = -1\n",
        "\"Hello\"[::-1]"
      ]
    },
    {
      "cell_type": "markdown",
      "metadata": {
        "id": "h3FkVwVuhY_6"
      },
      "source": [
        "# Practice 3: Indexing of string\n",
        "Assign \"Hello, World!\" to a string named **s**.\n",
        "- Print the characters corresponding to the even index.\n",
        "- Print the characters corresponding to the odd index.\n",
        "- Print the last three characters of s."
      ]
    },
    {
      "cell_type": "code",
      "execution_count": 82,
      "metadata": {
        "id": "FC-0Z9A7hY_6"
      },
      "outputs": [
        {
          "name": "stdout",
          "output_type": "stream",
          "text": [
            "even index:  Hlo ol!\n",
            "odd index:  el,Wrd\n",
            "last 3 characters:  ld!\n"
          ]
        }
      ],
      "source": [
        "# add your code here\n",
        "s = \"Hello, World!\"\n",
        "print(\"even index: \", s[::2])\n",
        "print(\"odd index: \", s[1::2])\n",
        "print(\"last 3 characters: \", s[-3:])"
      ]
    },
    {
      "cell_type": "markdown",
      "metadata": {
        "id": "CfX8HJq7Nib8"
      },
      "source": [
        "# String concatenation\n",
        "String concatenation is the process of combining two or more strings to create\n",
        "a new, longer string.\n",
        "\n",
        "In Python, you can perform string concatenation using the `+` operator"
      ]
    },
    {
      "cell_type": "code",
      "execution_count": 53,
      "metadata": {
        "id": "GeeAGzuowPnX"
      },
      "outputs": [
        {
          "data": {
            "text/plain": [
              "'Hello,GIX'"
            ]
          },
          "execution_count": 53,
          "metadata": {},
          "output_type": "execute_result"
        }
      ],
      "source": [
        "greeting = \"Hello,\"\n",
        "name = \"GIX\"\n",
        "greeting + name"
      ]
    },
    {
      "cell_type": "code",
      "execution_count": 54,
      "metadata": {
        "id": "CQg-sjSSwdKe"
      },
      "outputs": [
        {
          "data": {
            "text/plain": [
              "'Hello, GIX'"
            ]
          },
          "execution_count": 54,
          "metadata": {},
          "output_type": "execute_result"
        }
      ],
      "source": [
        "greeting = \"Hello,\"\n",
        "name = \"GIX\"\n",
        "greeting + \" \" + name"
      ]
    },
    {
      "cell_type": "code",
      "execution_count": 55,
      "metadata": {
        "id": "S6r_zqCswjQz"
      },
      "outputs": [
        {
          "data": {
            "text/plain": [
              "'PythonPythonPythonPythonPythonPythonPythonPythonPythonPython'"
            ]
          },
          "execution_count": 55,
          "metadata": {},
          "output_type": "execute_result"
        }
      ],
      "source": [
        "# Repeat a string by multiplying it with a number\n",
        "\"Python\" * 10"
      ]
    },
    {
      "cell_type": "markdown",
      "metadata": {
        "id": "QV3z-EXGOkVX"
      },
      "source": [
        "There are many built-in methods for the String class\n",
        "\n",
        "(we will talk about the concepts of classes and objects later)"
      ]
    },
    {
      "cell_type": "code",
      "execution_count": 56,
      "metadata": {
        "id": "S8jnHS-xw0rY"
      },
      "outputs": [
        {
          "name": "stdout",
          "output_type": "stream",
          "text": [
            "['__add__', '__class__', '__contains__', '__delattr__', '__dir__', '__doc__', '__eq__', '__format__', '__ge__', '__getattribute__', '__getitem__', '__getnewargs__', '__gt__', '__hash__', '__init__', '__init_subclass__', '__iter__', '__le__', '__len__', '__lt__', '__mod__', '__mul__', '__ne__', '__new__', '__reduce__', '__reduce_ex__', '__repr__', '__rmod__', '__rmul__', '__setattr__', '__sizeof__', '__str__', '__subclasshook__', 'capitalize', 'casefold', 'center', 'count', 'encode', 'endswith', 'expandtabs', 'find', 'format', 'format_map', 'index', 'isalnum', 'isalpha', 'isascii', 'isdecimal', 'isdigit', 'isidentifier', 'islower', 'isnumeric', 'isprintable', 'isspace', 'istitle', 'isupper', 'join', 'ljust', 'lower', 'lstrip', 'maketrans', 'partition', 'removeprefix', 'removesuffix', 'replace', 'rfind', 'rindex', 'rjust', 'rpartition', 'rsplit', 'rstrip', 'split', 'splitlines', 'startswith', 'strip', 'swapcase', 'title', 'translate', 'upper', 'zfill']\n"
          ]
        }
      ],
      "source": [
        "# Show all attributes and methods of String using `dir`\n",
        "s = 'harry potter'\n",
        "print(dir(s))"
      ]
    },
    {
      "cell_type": "markdown",
      "metadata": {
        "id": "7vHlAModPY7N"
      },
      "source": [
        "Let's pick a couple of built-in methods of string to try out"
      ]
    },
    {
      "cell_type": "code",
      "execution_count": 57,
      "metadata": {
        "id": "xbC4TqfoxCG4"
      },
      "outputs": [],
      "source": [
        "# Harry Potter\n",
        "s = 'harry potter'"
      ]
    },
    {
      "cell_type": "code",
      "execution_count": 58,
      "metadata": {
        "id": "vvdlguK5xTHo"
      },
      "outputs": [
        {
          "data": {
            "text/plain": [
              "'Harry Potter'"
            ]
          },
          "execution_count": 58,
          "metadata": {},
          "output_type": "execute_result"
        }
      ],
      "source": [
        "# make the string title case\n",
        "s.title()"
      ]
    },
    {
      "cell_type": "code",
      "execution_count": 59,
      "metadata": {
        "id": "hM0toqAmxfhV"
      },
      "outputs": [
        {
          "data": {
            "text/plain": [
              "'HARRY POTTER'"
            ]
          },
          "execution_count": 59,
          "metadata": {},
          "output_type": "execute_result"
        }
      ],
      "source": [
        "# make the string upper case\n",
        "s.upper()"
      ]
    },
    {
      "cell_type": "code",
      "execution_count": 60,
      "metadata": {
        "id": "ceU6G0zyxidK"
      },
      "outputs": [
        {
          "data": {
            "text/plain": [
              "'harry potter'"
            ]
          },
          "execution_count": 60,
          "metadata": {},
          "output_type": "execute_result"
        }
      ],
      "source": [
        "# make the string lower case\n",
        "'HARRY POTTER'.lower()"
      ]
    },
    {
      "cell_type": "code",
      "execution_count": 61,
      "metadata": {
        "id": "v9cP0niIxlx6"
      },
      "outputs": [
        {
          "data": {
            "text/plain": [
              "True"
            ]
          },
          "execution_count": 61,
          "metadata": {},
          "output_type": "execute_result"
        }
      ],
      "source": [
        "# test if the string ends with a string\n",
        "\"Hello\".endswith(\"llo\")"
      ]
    },
    {
      "cell_type": "code",
      "execution_count": 62,
      "metadata": {
        "id": "4VKoVWcYxvbq"
      },
      "outputs": [
        {
          "data": {
            "text/plain": [
              "False"
            ]
          },
          "execution_count": 62,
          "metadata": {},
          "output_type": "execute_result"
        }
      ],
      "source": [
        "\"Hello\".endswith(\"zzz\")"
      ]
    },
    {
      "cell_type": "code",
      "execution_count": 63,
      "metadata": {
        "id": "Cgd0robAxxiS"
      },
      "outputs": [
        {
          "data": {
            "text/plain": [
              "True"
            ]
          },
          "execution_count": 63,
          "metadata": {},
          "output_type": "execute_result"
        }
      ],
      "source": [
        "# test if the string starts with a string\n",
        "\"Hello\".startswith(\"Hel\")"
      ]
    },
    {
      "cell_type": "code",
      "execution_count": 64,
      "metadata": {
        "colab": {
          "base_uri": "https://localhost:8080/"
        },
        "id": "idQ5dJnhx1dz",
        "outputId": "2e09fc6e-221c-4dcc-b449-0cedf7d6c940"
      },
      "outputs": [
        {
          "data": {
            "text/plain": [
              "['Ian', 'Chen', '99', 'University of Washington']"
            ]
          },
          "execution_count": 64,
          "metadata": {},
          "output_type": "execute_result"
        }
      ],
      "source": [
        "# split the string into a list of strings by ,\n",
        "\"Ian,Chen,99,University of Washington\".split(\",\")"
      ]
    },
    {
      "cell_type": "code",
      "execution_count": 65,
      "metadata": {
        "id": "LUHg0rKiyYUD"
      },
      "outputs": [
        {
          "name": "stdout",
          "output_type": "stream",
          "text": [
            "\u001b[0;31mSignature:\u001b[0m \u001b[0ms\u001b[0m\u001b[0;34m.\u001b[0m\u001b[0mlower\u001b[0m\u001b[0;34m(\u001b[0m\u001b[0;34m)\u001b[0m\u001b[0;34m\u001b[0m\u001b[0;34m\u001b[0m\u001b[0m\n",
            "\u001b[0;31mDocstring:\u001b[0m Return a copy of the string converted to lowercase.\n",
            "\u001b[0;31mType:\u001b[0m      builtin_function_or_method"
          ]
        }
      ],
      "source": [
        "# Check the function documentation using ?\n",
        "s = \"Hello\"\n",
        "?s.lower"
      ]
    },
    {
      "cell_type": "markdown",
      "metadata": {
        "id": "zKZVpaV1WQGY"
      },
      "source": [
        "# Practice 4: string methods\n",
        "The customer wants to exchange 10,000 New Taiwan Dollars (NTD) into US Dollars (USD). Assuming:\n",
        "- The original input string is: NTD$ 10,000\n",
        "- The exchange rate is: 27.3\n",
        "\n",
        "Please convert the amount into the integer amount in US Dollars.\n",
        "\n",
        "Hint: Use `replace()` and `int()`."
      ]
    },
    {
      "cell_type": "code",
      "execution_count": 92,
      "metadata": {
        "id": "NDgpGwArWYRf"
      },
      "outputs": [
        {
          "name": "stdout",
          "output_type": "stream",
          "text": [
            "366.3003663003663\n"
          ]
        }
      ],
      "source": [
        "s = 'NTD$ 10,000'\n",
        "s = s.replace('NTD$ ', '').replace(',', '')\n",
        "s = int(s) / 27.3\n",
        "print(s)"
      ]
    },
    {
      "cell_type": "markdown",
      "metadata": {
        "id": "sbNl6mugQJ9e"
      },
      "source": [
        "# String Formatting\n",
        "\n",
        "String formatting is a technique in Python used to create well-structured, dynamic strings by inserting variable values or expressions into a text template.\n",
        "\n",
        "Python supports multiple ways to format text strings. These include [%-formatting](https://peps.python.org/pep-0498/#id11), [str.format()](https://peps.python.org/pep-0498/#id12), and [f-strings](https://peps.python.org/pep-0498/). Each of these methods have their advantages and use cases."
      ]
    },
    {
      "cell_type": "code",
      "execution_count": 67,
      "metadata": {
        "id": "TEkPpztISV9y"
      },
      "outputs": [
        {
          "name": "stdout",
          "output_type": "stream",
          "text": [
            "Hello, my name is Alice and I am 30 years old.\n"
          ]
        }
      ],
      "source": [
        "# %-formatting\n",
        "# the old way\n",
        "name = \"Alice\"\n",
        "age = 30\n",
        "\n",
        "formatted_string = \"Hello, my name is %s and I am %s years old.\"%(name, age)\n",
        "\n",
        "print(formatted_string)"
      ]
    },
    {
      "cell_type": "code",
      "execution_count": 68,
      "metadata": {
        "id": "uY6whTKbQta8"
      },
      "outputs": [
        {
          "name": "stdout",
          "output_type": "stream",
          "text": [
            "Hello, my name is Alice and I am 30 years old.\n"
          ]
        }
      ],
      "source": [
        "# str.format()\n",
        "# more powerful\n",
        "name = \"Alice\"\n",
        "age = 30\n",
        "\n",
        "formatted_string = \"Hello, my name is {} and I am {} years old.\".format(name, age)\n",
        "\n",
        "print(formatted_string)"
      ]
    },
    {
      "cell_type": "code",
      "execution_count": 69,
      "metadata": {
        "id": "5iyaiEf2Sxd2"
      },
      "outputs": [
        {
          "name": "stdout",
          "output_type": "stream",
          "text": [
            "Hello, my name is Alice and I am 30 years old.\n"
          ]
        }
      ],
      "source": [
        "# str.format()\n",
        "# more powerful\n",
        "name = \"Alice\"\n",
        "age = 30\n",
        "\n",
        "# specify field name\n",
        "formatted_string = \"Hello, my name is {name} and I am {age} years old.\".format(name=name, age=age)\n",
        "\n",
        "print(formatted_string)"
      ]
    },
    {
      "cell_type": "code",
      "execution_count": 70,
      "metadata": {
        "id": "VssRn4s1TmWi"
      },
      "outputs": [
        {
          "name": "stdout",
          "output_type": "stream",
          "text": [
            "Hello, my name is Alice and I am 30 years old.\n"
          ]
        }
      ],
      "source": [
        "# str.format()\n",
        "# more powerful\n",
        "name = \"Alice\"\n",
        "age = 30\n",
        "\n",
        "# specify field name\n",
        "formatted_string = \"Hello, my name is {0} and I am {1} years old.\".format(name, age)\n",
        "\n",
        "print(formatted_string)"
      ]
    },
    {
      "cell_type": "code",
      "execution_count": 71,
      "metadata": {
        "id": "jMjfWihoQ-gm"
      },
      "outputs": [
        {
          "data": {
            "text/plain": [
              "\"Hi, my name is Ian Chen, I'm a Lecturer at University of Washington\""
            ]
          },
          "execution_count": 71,
          "metadata": {},
          "output_type": "execute_result"
        }
      ],
      "source": [
        "# Since Python 3.6, you can using f-strings to format\n",
        "# read more: https://peps.python.org/pep-0498/\n",
        "name = \"Ian Chen\"\n",
        "position = \"Lecturer\"\n",
        "organization = \"University of Washington\"\n",
        "\n",
        "s = f\"Hi, my name is {name}, I'm a {position} at {organization}\"\n",
        "s"
      ]
    },
    {
      "cell_type": "markdown",
      "metadata": {
        "id": "J0wIa4uhWvju"
      },
      "source": [
        "# Input\n",
        "The `input()` function in Python is used to receive user input from the keyboard.\n",
        "\n",
        "It allows you to interact with your Python program by providing data that can be stored in variables and used in your code.\n",
        "\n",
        "The input() function reads a line of text entered by the user and returns it as a **string**."
      ]
    },
    {
      "cell_type": "code",
      "execution_count": 72,
      "metadata": {
        "id": "8Tb4gS1HXHiP"
      },
      "outputs": [
        {
          "name": "stdout",
          "output_type": "stream",
          "text": [
            "Hello, !\n",
            "You scored  points.\n"
          ]
        }
      ],
      "source": [
        "# Prompt the user for their name\n",
        "name = input(\"Enter your name: \")\n",
        "\n",
        "# Display a greeting using the input\n",
        "print(f\"Hello, {name}!\")\n",
        "\n",
        "# Prompt the user for their game score\n",
        "score = input(\"Enter your score: \")\n",
        "\n",
        "# Display a message based on the score input\n",
        "print(f\"You scored {score} points.\")"
      ]
    },
    {
      "cell_type": "markdown",
      "metadata": {
        "id": "RzdaA16vWnRP"
      },
      "source": [
        "# Practice 5: Input\n",
        "A customer has a bank account balance of $300,000.\n",
        "\n",
        "Please write a program where the user can input the amount they want to withdraw. After entering the amount, the program should display the following string on the screen:\n",
        "\n",
        "\"You have withdrawn \\$[amount] dollars. Your remaining balance is \\$[remaining balance] dollars.\""
      ]
    },
    {
      "cell_type": "code",
      "execution_count": 103,
      "metadata": {
        "id": "i7AqGejvWsgq"
      },
      "outputs": [
        {
          "name": "stdout",
          "output_type": "stream",
          "text": [
            "Please enter a valid number.\n"
          ]
        }
      ],
      "source": [
        "balance = 300000\n",
        "amount = input(\"Enter the amount you want to withdraw: \")\n",
        "\n",
        "if amount.isnumeric():\n",
        "  amount = int(amount)\n",
        "  if amount > balance:\n",
        "    print(\"You don't have enough balance.\")\n",
        "  elif amount <= 0:\n",
        "    print(\"Please enter a valid amount.\")\n",
        "  else:\n",
        "    print(f\"You have withdrawn {amount} dollars. Your remaining balance is {balance-amount} dollars.\")\n",
        "else:\n",
        "  print(\"Please enter a valid number.\")"
      ]
    },
    {
      "cell_type": "markdown",
      "metadata": {
        "id": "icCHuDnoUt_Q"
      },
      "source": [
        "# File I/O\n",
        "File I/O, which stands for File Input/Output, is a fundamental concept in programming that allows you to read data from and write data to files on your computer's storage. Python provides built-in functions and methods to perform File I/O operations easily."
      ]
    },
    {
      "cell_type": "code",
      "execution_count": 73,
      "metadata": {
        "id": "uEEeYEB6Uz2l"
      },
      "outputs": [],
      "source": [
        "# w:write, a:append, b: binary, r:read\n",
        "# Open a file called test.txt in write mode\n",
        "# Write \"Hello World\" to the file\n",
        "# Close the file\n",
        "f = open('test.txt', 'w')\n",
        "f.write('Hello World')\n",
        "f.close()"
      ]
    },
    {
      "cell_type": "code",
      "execution_count": 74,
      "metadata": {
        "id": "1dwNr_0HU1s6"
      },
      "outputs": [],
      "source": [
        "# Use with keyword to automatically manage file lifecycle(open, close)\n",
        "with open('test.txt', 'w') as f:\n",
        "    f.write('Hello World')"
      ]
    },
    {
      "cell_type": "code",
      "execution_count": 75,
      "metadata": {
        "id": "FjsTlXuyU3zU"
      },
      "outputs": [
        {
          "name": "stdout",
          "output_type": "stream",
          "text": [
            "Hello World\n"
          ]
        }
      ],
      "source": [
        "# Open test.txt created previously, in read mode\n",
        "# Read the file entirely into variable data\n",
        "with open('test.txt', 'r') as f:\n",
        "    data = f.read()\n",
        "print(data)"
      ]
    },
    {
      "cell_type": "markdown",
      "metadata": {
        "id": "Foar3woVX27u"
      },
      "source": [
        "# Debugging Strategies"
      ]
    },
    {
      "cell_type": "markdown",
      "metadata": {
        "id": "LTIxiSRvX7Ai"
      },
      "source": [
        "**Read** documentation"
      ]
    },
    {
      "cell_type": "code",
      "execution_count": 76,
      "metadata": {
        "id": "OJvuWkedX9o1"
      },
      "outputs": [
        {
          "name": "stdout",
          "output_type": "stream",
          "text": [
            "upper case all letter l\n"
          ]
        }
      ],
      "source": [
        "# example where documentation is needed\n",
        "new = 'upper case all letter l'.replace('L','l',2)\n",
        "print(new)"
      ]
    },
    {
      "cell_type": "markdown",
      "metadata": {
        "id": "evT09BHoYAyH"
      },
      "source": [
        "*Read* error message"
      ]
    },
    {
      "cell_type": "code",
      "execution_count": 77,
      "metadata": {
        "id": "cICuLZnYYDFw"
      },
      "outputs": [
        {
          "ename": "TypeError",
          "evalue": "str.upper() takes no arguments (1 given)",
          "output_type": "error",
          "traceback": [
            "\u001b[0;31m---------------------------------------------------------------------------\u001b[0m",
            "\u001b[0;31mTypeError\u001b[0m                                 Traceback (most recent call last)",
            "Cell \u001b[0;32mIn[77], line 2\u001b[0m\n\u001b[1;32m      1\u001b[0m \u001b[38;5;66;03m# example where error message is helpful\u001b[39;00m\n\u001b[0;32m----> 2\u001b[0m new \u001b[38;5;241m=\u001b[39m \u001b[38;5;124;43m'\u001b[39;49m\u001b[38;5;124;43m'\u001b[39;49m\u001b[38;5;241;43m.\u001b[39;49m\u001b[43mupper\u001b[49m\u001b[43m(\u001b[49m\u001b[38;5;124;43m'\u001b[39;49m\u001b[38;5;124;43mlower case name\u001b[39;49m\u001b[38;5;124;43m'\u001b[39;49m\u001b[43m)\u001b[49m\n\u001b[1;32m      3\u001b[0m \u001b[38;5;28mprint\u001b[39m(new)\n",
            "\u001b[0;31mTypeError\u001b[0m: str.upper() takes no arguments (1 given)"
          ]
        }
      ],
      "source": [
        "# example where error message is helpful\n",
        "new = ''.upper('lower case name')\n",
        "print(new)"
      ]
    },
    {
      "cell_type": "markdown",
      "metadata": {
        "id": "6kWaNku4YJv5"
      },
      "source": [
        "Use print statements"
      ]
    },
    {
      "cell_type": "code",
      "execution_count": null,
      "metadata": {
        "id": "ApWe8rYIYL68"
      },
      "outputs": [],
      "source": [
        "# example where print statement is helpful\n",
        "i = 1\n",
        "i += 3\n",
        "i / 2\n",
        "i = i - 1\n",
        "print(i)"
      ]
    },
    {
      "cell_type": "markdown",
      "metadata": {
        "id": "F8ub7X8uYORx"
      },
      "source": [
        "Other debugging strateges:\n",
        "- Write modular code,\n",
        "- Isolate functionality to test independently,\n",
        "- Add comments to follow logic (will cover these in later labs)"
      ]
    },
    {
      "cell_type": "markdown",
      "metadata": {
        "id": "l5R6al9i9js_"
      },
      "source": [
        "**References**\n",
        "- https://learnxinyminutes.com/docs/python/\n"
      ]
    }
  ],
  "metadata": {
    "colab": {
      "provenance": []
    },
    "kernelspec": {
      "display_name": "Python 3 (ipykernel)",
      "language": "python",
      "name": "python3"
    },
    "language_info": {
      "codemirror_mode": {
        "name": "ipython",
        "version": 3
      },
      "file_extension": ".py",
      "mimetype": "text/x-python",
      "name": "python",
      "nbconvert_exporter": "python",
      "pygments_lexer": "ipython3",
      "version": "3.9.6"
    }
  },
  "nbformat": 4,
  "nbformat_minor": 0
}
