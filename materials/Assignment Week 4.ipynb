{
 "cells": [
  {
   "cell_type": "markdown",
   "metadata": {},
   "source": [
    "## 1. Find the Factorial of a given number: "
   ]
  },
  {
   "cell_type": "code",
   "execution_count": null,
   "metadata": {},
   "outputs": [],
   "source": [
    "def factorial(n):\n",
    "    if n == 0:\n",
    "        return 1\n",
    "    else:\n",
    "        return n * factorial(n-1)"
   ]
  },
  {
   "cell_type": "markdown",
   "metadata": {},
   "source": [
    "## 2. Write a function to add two numbers using only the inc(x) and a dec(x) functions"
   ]
  },
  {
   "cell_type": "code",
   "execution_count": null,
   "metadata": {},
   "outputs": [],
   "source": [
    "def inc(x: int) -> int:\n",
    "    \"\"\"Increments and returns the given integer.\"\"\"\n",
    "    if not isinstance(x, int):\n",
    "        raise TypeError(\"Given number is not an integer.\")\n",
    "    return x + 1\n",
    "\n",
    "\n",
    "def dec(x: int) -> int:\n",
    "    \"\"\"Decrements and returns the given integer.\"\"\"\n",
    "    if not isinstance(x, int):\n",
    "        raise TypeError(\"Given number is not an integer.\")\n",
    "    return x - 1\n",
    "\n",
    "\n",
    "def add(x: int, y: int) -> int:\n",
    "    \"\"\"Adds and returns two given integers with increment and decrement functions.\"\"\"\n",
    "    if not isinstance(x, int) or not isinstance(y, int):\n",
    "        raise TypeError(\"Given input is not an integer.\")\n",
    "    if x < 0 or y < 0:\n",
    "        raise ValueError(\"One or more inputs are less than 0.\")\n",
    "\n",
    "    # Implement your code here.\n",
    "    \n",
    "    if y == 0:\n",
    "        return x\n",
    "    else:\n",
    "        return add(inc(x), dec(y))"
   ]
  },
  {
   "cell_type": "markdown",
   "metadata": {},
   "source": [
    "## 3. Determine if the given year is a leap year:"
   ]
  },
  {
   "cell_type": "code",
   "execution_count": null,
   "metadata": {},
   "outputs": [],
   "source": [
    "def leap_year(year: int) -> bool:\n",
    "    if year % 4 == 0:\n",
    "        if year % 100 == 0:\n",
    "            if year % 400 == 0:\n",
    "                return True\n",
    "            else:\n",
    "                return False\n",
    "        else:\n",
    "            return True\n",
    "    else:\n",
    "        return False"
   ]
  },
  {
   "cell_type": "markdown",
   "metadata": {},
   "source": [
    "## 4. Determine n'th Fibonacci's number:"
   ]
  },
  {
   "cell_type": "code",
   "execution_count": null,
   "metadata": {},
   "outputs": [],
   "source": [
    "def fibonacci(n: int) -> int:\n",
    "    if n == 1:\n",
    "        return 0\n",
    "    elif n == 2:\n",
    "        return 1\n",
    "    else:\n",
    "        return fibonacci(n-1) + fibonacci(n-2)"
   ]
  }
 ],
 "metadata": {
  "kernelspec": {
   "display_name": "Python 3",
   "language": "python",
   "name": "python3"
  },
  "language_info": {
   "name": "python",
   "version": "3.9.6"
  }
 },
 "nbformat": 4,
 "nbformat_minor": 2
}
